{
 "cells": [
  {
   "cell_type": "code",
   "execution_count": null,
   "metadata": {},
   "outputs": [],
   "source": [
    "!pip install google-genai"
   ]
  },
  {
   "cell_type": "code",
   "execution_count": 2,
   "metadata": {},
   "outputs": [],
   "source": [
    "# ENTER YOUR GEMINI_API_KEY HERE\n",
    "\n",
    "GEMINI_API_KEY = ''"
   ]
  },
  {
   "cell_type": "code",
   "execution_count": 5,
   "metadata": {},
   "outputs": [],
   "source": [
    "import json\n",
    "from google import genai"
   ]
  },
  {
   "cell_type": "code",
   "execution_count": null,
   "metadata": {},
   "outputs": [
    {
     "name": "stdout",
     "output_type": "stream",
     "text": [
      "[{'investor_id': 101, 'name': 'John Doe Ventures', 'preferred_industry': ['FinTech', 'AI/ML'], 'investment_range': [100000, 1000000], 'preferred_stage': ['Seed', 'Series A']}, {'investor_id': 102, 'name': 'Future Health Capital', 'preferred_industry': ['HealthTech'], 'investment_range': [500000, 5000000], 'preferred_stage': ['Series A', 'Series B']}, {'investor_id': 103, 'name': 'AI First Fund', 'preferred_industry': ['AI/ML'], 'investment_range': [250000, 2000000], 'preferred_stage': ['Pre-Seed', 'Seed']}]\n"
     ]
    }
   ],
   "source": [
    "with open('./data/founders.json', 'r') as file:\n",
    "    founders = json.load(file)\n",
    "\n",
    "with open('./data/investors.json', 'r') as file:\n",
    "    investors = json.load(file)\n"
   ]
  },
  {
   "cell_type": "code",
   "execution_count": null,
   "metadata": {},
   "outputs": [],
   "source": [
    "def get_gemini_match_score(founder, investor):\n",
    "    \"\"\"Calls Gemini API to analyze founder-investor compatibility\"\"\"\n",
    "    prompt = f\"\"\"\n",
    "    Compare the following startup founder and investor for compatibility:\n",
    "    Founder: {founder}\n",
    "    Investor: {investor}\n",
    "    Provide a match score (0-100) based on industry, funding needs, and startup stage.\n",
    "    Respond only with the final score.\n",
    "    \"\"\"\n",
    "    client = genai.Client(api_key=GEMINI_API_KEY)\n",
    "\n",
    "    response = client.models.generate_content(\n",
    "    model=\"gemini-2.0-flash\", contents=prompt\n",
    "    )   \n",
    "    return response.candidates[0].content.parts[0].text.strip()"
   ]
  },
  {
   "cell_type": "code",
   "execution_count": 32,
   "metadata": {},
   "outputs": [],
   "source": [
    "def get_investors_for_founder(founder):\n",
    "    results = []\n",
    "    for investor in investors:\n",
    "        score = get_gemini_match_score(founder, investor)\n",
    "        investor['score'] = score\n",
    "        results.append(investor)\n",
    "    results = sorted(results, key=lambda d: d['score'], reverse=True)\n",
    "    results = {'founder': founder, 'matches': results}\n",
    "    return results\n"
   ]
  },
  {
   "cell_type": "code",
   "execution_count": 33,
   "metadata": {},
   "outputs": [
    {
     "data": {
      "text/plain": [
       "{'founder': {'founder_id': 1,\n",
       "  'name': 'Alice Johnson',\n",
       "  'industry': 'FinTech',\n",
       "  'startup_stage': 'Seed',\n",
       "  'funding_required': 500000,\n",
       "  'traction': '10,000 users, $50K revenue',\n",
       "  'business_model': 'Subscription-based'},\n",
       " 'matches': [{'investor_id': 101,\n",
       "   'name': 'John Doe Ventures',\n",
       "   'preferred_industry': ['FinTech', 'AI/ML'],\n",
       "   'investment_range': [100000, 1000000],\n",
       "   'preferred_stage': ['Seed', 'Series A'],\n",
       "   'score': '88'},\n",
       "  {'investor_id': 103,\n",
       "   'name': 'AI First Fund',\n",
       "   'preferred_industry': ['AI/ML'],\n",
       "   'investment_range': [250000, 2000000],\n",
       "   'preferred_stage': ['Pre-Seed', 'Seed'],\n",
       "   'score': '50'},\n",
       "  {'investor_id': 102,\n",
       "   'name': 'Future Health Capital',\n",
       "   'preferred_industry': ['HealthTech'],\n",
       "   'investment_range': [500000, 5000000],\n",
       "   'preferred_stage': ['Series A', 'Series B'],\n",
       "   'score': '10'}]}"
      ]
     },
     "execution_count": 33,
     "metadata": {},
     "output_type": "execute_result"
    }
   ],
   "source": [
    "get_investors_for_founder(founders[0])"
   ]
  },
  {
   "cell_type": "code",
   "execution_count": null,
   "metadata": {},
   "outputs": [],
   "source": []
  }
 ],
 "metadata": {
  "kernelspec": {
   "display_name": "Python 3",
   "language": "python",
   "name": "python3"
  },
  "language_info": {
   "codemirror_mode": {
    "name": "ipython",
    "version": 3
   },
   "file_extension": ".py",
   "mimetype": "text/x-python",
   "name": "python",
   "nbconvert_exporter": "python",
   "pygments_lexer": "ipython3",
   "version": "3.10.9"
  }
 },
 "nbformat": 4,
 "nbformat_minor": 2
}
