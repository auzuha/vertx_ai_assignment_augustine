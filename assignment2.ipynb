{
 "cells": [
  {
   "cell_type": "code",
   "execution_count": null,
   "metadata": {},
   "outputs": [],
   "source": [
    "!pip install pytesseract pdfplumber pillow langchain pydantic"
   ]
  },
  {
   "cell_type": "markdown",
   "metadata": {},
   "source": [
    "### WINDOWS\n",
    "Please install tesseract from the following link: https://github.com/UB-Mannheim/tesseract/wiki\n",
    "\n",
    "### LINUX\n",
    "```sudo apt-get update```\n",
    "\n",
    "```sudo apt-get install python3-pil tesseract-ocr libtesseract-dev tesseract-ocr-eng tesseract-ocr-script-latn```"
   ]
  },
  {
   "cell_type": "code",
   "execution_count": 7,
   "metadata": {},
   "outputs": [],
   "source": [
    "import pytesseract\n",
    "import pdfplumber\n",
    "from PIL import Image\n",
    "import io, re\n"
   ]
  },
  {
   "cell_type": "code",
   "execution_count": null,
   "metadata": {},
   "outputs": [],
   "source": [
    "        ## IF YOU'RE ON WINDOWS, EXECUTE THIS CELL ##\n",
    "        ## IF YOU'RE ON WINDOWS, EXECUTE THIS CELL ##\n",
    "        ## IF YOU'RE ON WINDOWS, EXECUTE THIS CELL ##\n",
    "\n",
    "\n",
    "\n",
    "pytesseract.pytesseract.tesseract_cmd = r'C:\\Program Files\\Tesseract-OCR\\tesseract.exe'"
   ]
  },
  {
   "cell_type": "code",
   "execution_count": 37,
   "metadata": {},
   "outputs": [],
   "source": [
    "## ENTER YOUR OPENAI_API_KEY HERE\n",
    "\n",
    "OPENAI_API_KEY=''"
   ]
  },
  {
   "cell_type": "code",
   "execution_count": 27,
   "metadata": {},
   "outputs": [],
   "source": [
    "def preprocess_text(text):\n",
    "    \"\"\"Clean and preprocess extracted text.\"\"\"\n",
    "    text = re.sub(r\"\\s+\", \" \", text)  # Remove extra spaces\n",
    "    return text.strip()\n",
    "\n",
    "\n",
    "def extract_text_from_pdf(pdf_path):\n",
    "    \"\"\"Extract text from a PDF pitch deck using OCR for all pages.\"\"\"\n",
    "    text = []\n",
    "    with pdfplumber.open(pdf_path) as pdf:\n",
    "        for page in pdf.pages:\n",
    "        \n",
    "            # Convert the page to an image and apply OCR\n",
    "            img = page.to_image(resolution=300).original\n",
    "            img_bytes = io.BytesIO()\n",
    "            img.save(img_bytes, format=\"PNG\")\n",
    "            img = Image.open(img_bytes)\n",
    "            \n",
    "            ocr_text = pytesseract.image_to_string(img)\n",
    "            text.append(ocr_text)\n",
    "\n",
    "    return preprocess_text(\"\\n\".join(text))\n"
   ]
  },
  {
   "cell_type": "code",
   "execution_count": 14,
   "metadata": {},
   "outputs": [],
   "source": [
    "from pydantic import BaseModel, Field\n",
    "\n",
    "class StartupPitch(BaseModel):\n",
    "    \"\"\"The data on a startup pitch\"\"\"\n",
    "    problem_score: str = Field(description='The score assigned to the problem statement section as a startup pitch [0-100], followed by strengths, weaknesses and suggestions to improve it.')\n",
    "    solution_score: str = Field(description='The score assigned to the solution section as a startup pitch [0-100], followed by strengths, weaknesses and suggestions to improve it.') \n",
    "    market_score: str = Field(description='The score assigned to the market section as a startup pitch [0-100], followed by strengths, weaknesses and suggestions to improve it.')\n",
    "    business_model_score: str = Field(description='The score assigned to the business model section as a startup pitch [0-100], followed by strengths, weaknesses and suggestions to improve it.')\n",
    "    financials_score: str = Field(description='The score assigned to the financials section as a startup pitch [0-100], followed by strengths, weaknesses and suggestions to improve it.')\n",
    "    team_score: str = Field(description='The score assigned to the team section as a startup pitch [0-100], followed by strengths, weaknesses and suggestions to improve it.')\n",
    "    def __str__(self):\n",
    "        s = f'Problem Statement Analysis:\\n{self.problem_score}\\n\\nSolution Analysis:\\n{self.solution_score}\\n\\nMarket Analysis:\\n{self.market_score}\\n\\nBusiness Model Analysis:\\n{self.business_model_score}\\n\\nFinancials Analysis:\\n{self.financials_score}\\n\\nTeam Analysis:\\n{self.team_score}\\n\\n'\n",
    "        return s"
   ]
  },
  {
   "cell_type": "code",
   "execution_count": 36,
   "metadata": {},
   "outputs": [],
   "source": [
    "pitch = extract_text_from_pdf('data/pitch-decks/uber-pitch-deck.pdf')"
   ]
  },
  {
   "cell_type": "code",
   "execution_count": null,
   "metadata": {},
   "outputs": [],
   "source": [
    "pitch"
   ]
  },
  {
   "cell_type": "code",
   "execution_count": 34,
   "metadata": {},
   "outputs": [],
   "source": [
    "from langchain.chat_models import init_chat_model\n",
    "\n",
    "llm = init_chat_model(\"gpt-4o-mini\", model_provider=\"openai\",api_key=OPENAI_API_KEY).with_structured_output(StartupPitch)\n",
    "\n",
    "\n",
    "\n",
    "\n",
    "cls = llm.invoke(pitch)\n"
   ]
  },
  {
   "cell_type": "code",
   "execution_count": null,
   "metadata": {},
   "outputs": [],
   "source": [
    "print(cls)"
   ]
  },
  {
   "cell_type": "code",
   "execution_count": null,
   "metadata": {},
   "outputs": [],
   "source": []
  }
 ],
 "metadata": {
  "kernelspec": {
   "display_name": "Python 3",
   "language": "python",
   "name": "python3"
  },
  "language_info": {
   "codemirror_mode": {
    "name": "ipython",
    "version": 3
   },
   "file_extension": ".py",
   "mimetype": "text/x-python",
   "name": "python",
   "nbconvert_exporter": "python",
   "pygments_lexer": "ipython3",
   "version": "3.10.9"
  }
 },
 "nbformat": 4,
 "nbformat_minor": 2
}
